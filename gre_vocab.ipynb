{
 "nbformat": 4,
 "nbformat_minor": 2,
 "metadata": {
  "language_info": {
   "name": "python",
   "codemirror_mode": {
    "name": "ipython",
    "version": 3
   },
   "version": "3.7.4-final"
  },
  "orig_nbformat": 2,
  "file_extension": ".py",
  "mimetype": "text/x-python",
  "name": "python",
  "npconvert_exporter": "python",
  "pygments_lexer": "ipython3",
  "version": 3,
  "kernelspec": {
   "name": "python3",
   "display_name": "Python 3"
  }
 },
 "cells": [
  {
   "cell_type": "code",
   "execution_count": 1,
   "metadata": {},
   "outputs": [
    {
     "name": "stdout",
     "output_type": "stream",
     "text": "432\n"
    }
   ],
   "source": [
    "from gre_vocab import greVocab\n",
    "o = greVocab()\n",
    "o.readJson()\n",
    "data = o.data\n",
    "alpha = o.alpha\n",
    "wordlist = o.wordList\n",
    "# print(o.getCountTill('j', 'z'))"
   ]
  },
  {
   "cell_type": "code",
   "execution_count": 2,
   "metadata": {},
   "outputs": [
    {
     "data": {
      "text/plain": "['laborious',\n 'lacerate',\n 'lachrymose',\n 'laconic',\n 'lambast',\n 'lampoon',\n 'languid',\n 'languish',\n 'largess',\n 'lascivious',\n 'laudable',\n 'leery',\n 'lethargic',\n 'limpid',\n 'lionize',\n 'litany',\n 'loath',\n 'lucid',\n 'lugubrious']"
     },
     "execution_count": 2,
     "metadata": {},
     "output_type": "execute_result"
    }
   ],
   "source": [
    "alpha['l']"
   ]
  },
  {
   "cell_type": "code",
   "execution_count": 27,
   "metadata": {},
   "outputs": [
    {
     "data": {
      "text/plain": "['laborious{\\'demanding\\': \"The most laborious job I\\'ve had was working 20 hours a day as a fisherman in Alaska.\"}\\n\\n',\n \"lacerate{'distress deeply': 'The teacher was fired for lacerating a student who wrote a poor essay.'}\\n\\n\",\n \"lachrymose{'weepy': 'Lachrymose and depressed, Alexei Alexandrovich walked two miles home in the rain after learning that his wife was having an affair.'}\\n\\n\",\n \"laconic{'not saying much': 'While Martha always swooned over the hunky, laconic types in romantic comedies, her boyfriends inevitably were very talkative - and not very hunky.'}\\n\\n\",\n \"lambast{'criticize severely': 'Showing no patience, the manager utterly lambasted the sales team that lost the big account.'}\\n\\n\",\n \"lampoon{'poke fun at': 'Mark Twain understood that lampooning a bad idea with humor was the most effective criticism.'}\\n\\n\",\n \"languid{'tired': 'As the sun beat down and the temperature climbed higher, we spent a languid week lying around the house.'}\\n\\n\",\n \"languish{'become weak': 'Stranded in the wilderness for four days, the hiker languished, eating protein bars and nuts.'}\\n\\n\",\n \"largess{'generosity': 'Uncle Frank was known for his largess, so his nephew was sad when he did not receive a present for his birthday.'}\\n\\n\",\n \"lascivious{'perverted': 'Lolita is a challenging novel for many, not necessarily because of the elevated prose style but because of the depravity of the main character, Humbert Humbert, who, as an old, lascivious man, falls in love with a girl.'}\\n\\n\",\n 'laudable{\\'praiseworthy\\': \"To say that Gandhi\\'s actions were laudable is the greatest understatement, he overthrew an empire without violence.\"}\\n\\n',\n \"leery{'distrustful': 'Without checking his references and talking to previous employers, I am leery of hiring the candidate.'}\\n\\n\",\n \"lethargic{'weary': 'Nothing can make a person more lethargic than a big turkey dinner.'}\\n\\n\",\n \"limpid{'clear': 'Her limpid prose made even the most recondite subjects accessible to all.'}\\n\\n\",\n \"lionize{'celebrate': 'Students in the US learn to lionize Jefferson, Franklin, and Washington because they are the founding fathers of the nation.'}\\n\\n\",\n \"litany{'long account': 'Mr. Rogers spoke to a Senate committee and did not give a litany of reasons to keep funding the program, but instead, appealed to the basic human decency of all present.'}\\n\\n\",\n \"loath{'reluctant': 'I was loath to leave the concert before my favorite band finished playing.'}\\n\\n\",\n \"lucid{'easy to understand': 'Though Walters writes about physics and time travel, his writing is always lucid, so readers with little scientific training can understand difficult concepts.'}\\n\\n\",\n \"lugubrious{'overly sad': 'At the funeral, lugubrious songs filled the small church.'}\\n\\n\"]"
     },
     "execution_count": 27,
     "metadata": {},
     "output_type": "execute_result"
    }
   ],
   "source": [
    "[ word + str(data['words'][word]) for word in data['words'] if word[0] == 'l']"
   ]
  },
  {
   "cell_type": "code",
   "execution_count": null,
   "metadata": {},
   "outputs": [],
   "source": []
  }
 ]
}