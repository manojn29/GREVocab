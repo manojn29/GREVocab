{
 "cells": [
  {
   "cell_type": "code",
   "execution_count": 73,
   "metadata": {},
   "outputs": [],
   "source": [
    "import json\n",
    "with open(\"words.json\", 'r+') as words:\n",
    "    data = json.load(words)\n",
    "    meaning = {\"utterly absurd or ridiculous\" : \"a preposterous suggestion\"}\n",
    "    data['words']['preposterous'] = meaning\n",
    "    data['words'] = dict(collections.OrderedDict(sorted(data['words'].items())))\n",
    "    words.seek(0)\n",
    "    json.dump(data, words, indent = 4)\n",
    "    words.truncate()"
   ]
  },
  {
   "cell_type": "code",
   "execution_count": null,
   "metadata": {},
   "outputs": [],
   "source": []
  }
 ],
 "metadata": {
  "kernelspec": {
   "display_name": "Python 3",
   "language": "python",
   "name": "python3"
  },
  "language_info": {
   "codemirror_mode": {
    "name": "ipython",
    "version": 3
   },
   "file_extension": ".py",
   "mimetype": "text/x-python",
   "name": "python",
   "nbconvert_exporter": "python",
   "pygments_lexer": "ipython3",
   "version": "3.7.4"
  }
 },
 "nbformat": 4,
 "nbformat_minor": 2
}
